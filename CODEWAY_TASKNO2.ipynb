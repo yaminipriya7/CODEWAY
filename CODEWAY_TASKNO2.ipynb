{
 "cells": [
  {
   "cell_type": "code",
   "execution_count": null,
   "id": "65f718fb",
   "metadata": {},
   "outputs": [
    {
     "name": "stdout",
     "output_type": "stream",
     "text": [
      "Select the operation:        1.Addition       2.Subtraction       3.Multiplication       4.Division\n"
     ]
    }
   ],
   "source": [
    "#Simple Calculator\n",
    "#define functions \n",
    "def add(num1,num2):\n",
    "    return num1+num2\n",
    "def sub(num1,num2):\n",
    "    return num1-num2 \n",
    "def mul(num1,num2):\n",
    "    return num1*num2\n",
    "def div(num1,num2):\n",
    "    return num1/num2\n",
    "\n",
    "print(\"Select the operation:  \\\n",
    "      1.Addition \\\n",
    "      2.Subtraction \\\n",
    "      3.Multiplication \\\n",
    "      4.Division\")\n",
    "#get input\n",
    "select = int(input(\"Enter the selected operation \\ '1 or 2 or 3 or 4' \"))\n",
    "num1 = int(input(\"Enter the first value\"))\n",
    "num2 = int(input(\"Enter the second value\"))\n",
    "\n",
    "if select==1:\n",
    "    print(num1,\"+\",num2,\"=\",add(num1,num2))\n",
    "    \n",
    "elif select==2:\n",
    "    print(num1,\"-\",num2,\"=\",sub(num1,num2))\n",
    "\n",
    "elif select==3:\n",
    "    print(num1,\"*\",num2,\"=\",mul(num1,num2))\n",
    "\n",
    "elif select==4:\n",
    "    print(num1,\"/\",num2,\"=\",div(num1,num2))\n",
    "else:\n",
    "    print(\"invalid input\")"
   ]
  },
  {
   "cell_type": "code",
   "execution_count": null,
   "id": "42556b6e",
   "metadata": {},
   "outputs": [],
   "source": []
  },
  {
   "cell_type": "code",
   "execution_count": null,
   "id": "ee1e38e8",
   "metadata": {},
   "outputs": [],
   "source": []
  }
 ],
 "metadata": {
  "kernelspec": {
   "display_name": "Python 3 (ipykernel)",
   "language": "python",
   "name": "python3"
  },
  "language_info": {
   "codemirror_mode": {
    "name": "ipython",
    "version": 3
   },
   "file_extension": ".py",
   "mimetype": "text/x-python",
   "name": "python",
   "nbconvert_exporter": "python",
   "pygments_lexer": "ipython3",
   "version": "3.10.9"
  }
 },
 "nbformat": 4,
 "nbformat_minor": 5
}
