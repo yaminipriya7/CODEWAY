{
 "cells": [
  {
   "cell_type": "code",
   "execution_count": 1,
   "id": "f98ec2bf",
   "metadata": {},
   "outputs": [
    {
     "name": "stdout",
     "output_type": "stream",
     "text": [
      "Enter the desired length of the password: 5\n",
      "Generated password: dv-_3\n"
     ]
    }
   ],
   "source": [
    "import random\n",
    "import string\n",
    "\n",
    "def generate_password(length):\n",
    "    # Define the characters to be used in the password\n",
    "    characters = string.ascii_letters + string.digits + string.punctuation\n",
    "    # Generate a password by randomly choosing characters from the defined set\n",
    "    password = ''.join(random.choice(characters) for _ in range(length))\n",
    "    return password\n",
    "\n",
    "def main():\n",
    "    # Prompt the user to specify the desired length of the password\n",
    "    length = int(input(\"Enter the desired length of the password: \"))\n",
    "    \n",
    "    # Check if the length is valid (greater than 0)\n",
    "    if length <= 0:\n",
    "        print(\"Invalid length! Please enter a positive integer.\")\n",
    "        return\n",
    "    \n",
    "    # Generate the password\n",
    "    password = generate_password(length)\n",
    "    \n",
    "    # Display the generated password\n",
    "    print(\"Generated password:\", password)\n",
    "\n",
    "if __name__ == \"__main__\":\n",
    "    main()\n"
   ]
  },
  {
   "cell_type": "code",
   "execution_count": null,
   "id": "8b1c8813",
   "metadata": {},
   "outputs": [],
   "source": []
  }
 ],
 "metadata": {
  "kernelspec": {
   "display_name": "Python 3 (ipykernel)",
   "language": "python",
   "name": "python3"
  },
  "language_info": {
   "codemirror_mode": {
    "name": "ipython",
    "version": 3
   },
   "file_extension": ".py",
   "mimetype": "text/x-python",
   "name": "python",
   "nbconvert_exporter": "python",
   "pygments_lexer": "ipython3",
   "version": "3.10.9"
  }
 },
 "nbformat": 4,
 "nbformat_minor": 5
}
